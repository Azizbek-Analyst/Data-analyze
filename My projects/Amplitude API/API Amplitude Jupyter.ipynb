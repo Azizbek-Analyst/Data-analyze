{
 "cells": [
  {
   "cell_type": "code",
   "execution_count": null,
   "metadata": {},
   "outputs": [],
   "source": [
    "import requests\n",
    "import pandas as pd\n",
    "import zipfile\n",
    "import gzip\n",
    "import os\n",
    "import time\n",
    "import tqdm\n",
    "from tqdm import tqdm\n",
    "a = time.time()\n",
    "# Параметры начальной и конечной даты\n",
    "startdate = '20210601'\n",
    "enddate = '20210630'\n",
    "\n",
    "api_key = 'KEY'\n",
    "secret_key = 'KEY'\n",
    "# Отправление запроса в Amplitude\n",
    "response = requests.get('https://amplitude.com/api/2/export?&e=\\{\"event_type\":\"verified_revenue\"\\}&start='+startdate+'T0&end='+enddate+'T0', auth = (api_key, secret_key))\n",
    "print('1. Запрос отправлен')"
   ]
  },
  {
   "cell_type": "code",
   "execution_count": null,
   "metadata": {},
   "outputs": [],
   "source": [
    "# Скачивание архива с данными\n",
    "filename = 'period_since'+startdate+'to'+enddate+'_amplitude_data'\n",
    "with open(filename + '.zip', \"wb\") as code:\n",
    "    code.write(response.content)\n",
    "print('2. Архив с файлами успешно скачан')\n",
    "\n",
    "\n",
    "# Извлечение файлов в папку на компьютере\n",
    "z = zipfile.ZipFile(filename + '.zip', 'r')\n",
    "z.extractall(path = 'C:\\\\amp\\\\'+filename)\n",
    "print('3. Архив с файлами извлечен и записан в папку ' + filename)\n",
    "\n",
    "# Извлечение файлов в папку на компьютере\n",
    "z = zipfile.ZipFile(filename + '.zip', 'r')\n",
    "z.extractall(path = 'C:\\\\amp\\\\'+filename)\n",
    "print('3. Архив с файлами извлечен и записан в папку ' + filename)"
   ]
  },
  {
   "cell_type": "code",
   "execution_count": null,
   "metadata": {},
   "outputs": [],
   "source": [
    "# Преобразование json к обычному табличному формату\n",
    "directory = 'C:\\\\amp\\\\'+filename+'\\\\324600'\n",
    "files = os.listdir(directory)\n",
    "amplitude_dataframe = pd.DataFrame()\n",
    "print('Прогресс обработки файлов:')\n",
    "time.sleep(1)\n",
    "for i in tqdm(files):\n",
    "    with gzip.open(directory + '\\\\' + i) as f:\n",
    "        add = pd.read_json(f, lines = 'True')\n",
    "    amplitude_dataframe = pd.concat([amplitude_dataframe, add])\n",
    "time.sleep(1)\n",
    "print('4. JSON файлы из архива успешно преобразованы и записаны в dataframe')\n",
    "17:55\n"
   ]
  },
  {
   "cell_type": "code",
   "execution_count": null,
   "metadata": {},
   "outputs": [],
   "source": [
    "\n",
    "# Записать полученной таблицы в Excel-файл\n",
    "amplitude_dataframe.to_excel('C:\\\\amp\\\\'+filename+'.xlsx',index=False)\n",
    "print('5. Dataframe успешно записан в файл ' + filename)\n",
    "\n",
    "b = time.time()\n",
    "diff = b-a\n",
    "minutes = diff//60\n",
    "print('Выполнение кода заняло: {:.0f} минут(ы)'.format( minutes))"
   ]
  }
 ],
 "metadata": {
  "language_info": {
   "codemirror_mode": {
    "name": "ipython",
    "version": 3
   },
   "file_extension": ".py",
   "mimetype": "text/x-python",
   "name": "python",
   "nbconvert_exporter": "python",
   "pygments_lexer": "ipython3",
   "version": 3
  },
  "orig_nbformat": 4
 },
 "nbformat": 4,
 "nbformat_minor": 2
}
