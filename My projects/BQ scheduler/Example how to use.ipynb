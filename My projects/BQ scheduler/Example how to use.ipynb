{
 "cells": [
  {
   "cell_type": "code",
   "execution_count": 1,
   "id": "703f40eb",
   "metadata": {},
   "outputs": [],
   "source": [
    "import bq_update"
   ]
  },
  {
   "cell_type": "code",
   "execution_count": null,
   "id": "b818b074",
   "metadata": {
    "scrolled": true
   },
   "outputs": [],
   "source": [
    "help(bq_update)"
   ]
  },
  {
   "cell_type": "code",
   "execution_count": null,
   "id": "bad7741a",
   "metadata": {},
   "outputs": [],
   "source": [
    "# Определяем даты\n",
    "previous_monday = bq_update.prior_week_start().strftime('%Y-%m-%d')\n",
    "previous_sunday = bq_update.prior_week_end().strftime('%Y-%m-%d')"
   ]
  },
  {
   "cell_type": "code",
   "execution_count": 2,
   "id": "c8cbc06b",
   "metadata": {},
   "outputs": [],
   "source": [
    "previous_monday = '2022-05-01'"
   ]
  },
  {
   "cell_type": "code",
   "execution_count": 3,
   "id": "936592c7",
   "metadata": {},
   "outputs": [],
   "source": [
    "previous_sunday = '2022-08-03'"
   ]
  },
  {
   "cell_type": "code",
   "execution_count": null,
   "id": "e423cdb2",
   "metadata": {
    "scrolled": false
   },
   "outputs": [],
   "source": [
    "previous_monday"
   ]
  },
  {
   "cell_type": "code",
   "execution_count": null,
   "id": "55019b12",
   "metadata": {
    "scrolled": true
   },
   "outputs": [],
   "source": [
    "previous_sunday"
   ]
  },
  {
   "cell_type": "code",
   "execution_count": 5,
   "id": "431c240a",
   "metadata": {
    "scrolled": false
   },
   "outputs": [
    {
     "data": {
      "text/html": [
       "<div>\n",
       "<style scoped>\n",
       "    .dataframe tbody tr th:only-of-type {\n",
       "        vertical-align: middle;\n",
       "    }\n",
       "\n",
       "    .dataframe tbody tr th {\n",
       "        vertical-align: top;\n",
       "    }\n",
       "\n",
       "    .dataframe thead th {\n",
       "        text-align: right;\n",
       "    }\n",
       "</style>\n",
       "<table border=\"1\" class=\"dataframe\">\n",
       "  <thead>\n",
       "    <tr style=\"text-align: right;\">\n",
       "      <th></th>\n",
       "      <th>Destination folder</th>\n",
       "      <th>Destination table</th>\n",
       "      <th>Scheduler name</th>\n",
       "      <th>Partition field</th>\n",
       "    </tr>\n",
       "  </thead>\n",
       "  <tbody>\n",
       "    <tr>\n",
       "      <th>0</th>\n",
       "      <td>reports</td>\n",
       "      <td>daily_metrics</td>\n",
       "      <td>Daily_metrics</td>\n",
       "      <td>event_date</td>\n",
       "    </tr>\n",
       "    <tr>\n",
       "      <th>1</th>\n",
       "      <td>reports</td>\n",
       "      <td>funnel_events</td>\n",
       "      <td>Append to funnel events table</td>\n",
       "      <td>event_date</td>\n",
       "    </tr>\n",
       "    <tr>\n",
       "      <th>2</th>\n",
       "      <td>reports</td>\n",
       "      <td>sessions</td>\n",
       "      <td>Append to sessions table</td>\n",
       "      <td>event_date</td>\n",
       "    </tr>\n",
       "    <tr>\n",
       "      <th>3</th>\n",
       "      <td>reports</td>\n",
       "      <td>events</td>\n",
       "      <td>Append to small events table</td>\n",
       "      <td>event_date</td>\n",
       "    </tr>\n",
       "    <tr>\n",
       "      <th>4</th>\n",
       "      <td>reports</td>\n",
       "      <td>checks</td>\n",
       "      <td>Aggregated checks from Hadoop data</td>\n",
       "      <td>created</td>\n",
       "    </tr>\n",
       "    <tr>\n",
       "      <th>5</th>\n",
       "      <td>reports</td>\n",
       "      <td>check_lines</td>\n",
       "      <td>Check lines from Hadoop data</td>\n",
       "      <td>created</td>\n",
       "    </tr>\n",
       "    <tr>\n",
       "      <th>6</th>\n",
       "      <td>reports</td>\n",
       "      <td>searches</td>\n",
       "      <td>Append to search table</td>\n",
       "      <td>event_date</td>\n",
       "    </tr>\n",
       "    <tr>\n",
       "      <th>7</th>\n",
       "      <td>reports</td>\n",
       "      <td>af_installs_and_purchases</td>\n",
       "      <td>Append to AF installs and purchases table</td>\n",
       "      <td>event_date</td>\n",
       "    </tr>\n",
       "    <tr>\n",
       "      <th>8</th>\n",
       "      <td>reports</td>\n",
       "      <td>user_metrics</td>\n",
       "      <td>Append to user metrics table</td>\n",
       "      <td>event_date</td>\n",
       "    </tr>\n",
       "    <tr>\n",
       "      <th>9</th>\n",
       "      <td>reports</td>\n",
       "      <td>push_notification</td>\n",
       "      <td>Append to push_notification</td>\n",
       "      <td>event_date</td>\n",
       "    </tr>\n",
       "    <tr>\n",
       "      <th>10</th>\n",
       "      <td>reports</td>\n",
       "      <td>banners</td>\n",
       "      <td>Append to banners table</td>\n",
       "      <td>event_date</td>\n",
       "    </tr>\n",
       "    <tr>\n",
       "      <th>11</th>\n",
       "      <td>reports</td>\n",
       "      <td>checkout_metrics_2</td>\n",
       "      <td>Append to checkout_metrics_2</td>\n",
       "      <td>event_date</td>\n",
       "    </tr>\n",
       "    <tr>\n",
       "      <th>12</th>\n",
       "      <td>reports</td>\n",
       "      <td>errors</td>\n",
       "      <td>Append to dash_errors</td>\n",
       "      <td>event_date</td>\n",
       "    </tr>\n",
       "    <tr>\n",
       "      <th>13</th>\n",
       "      <td>reports</td>\n",
       "      <td>banner_items</td>\n",
       "      <td>Append to banner items table</td>\n",
       "      <td>event_date</td>\n",
       "    </tr>\n",
       "    <tr>\n",
       "      <th>14</th>\n",
       "      <td>reports</td>\n",
       "      <td>af_funnel</td>\n",
       "      <td>Append to af_funnel</td>\n",
       "      <td>event_date</td>\n",
       "    </tr>\n",
       "    <tr>\n",
       "      <th>15</th>\n",
       "      <td>reports</td>\n",
       "      <td>af_installs_and_purchases</td>\n",
       "      <td>Append to AF installs and purchases table (ONCE)</td>\n",
       "      <td>event_date</td>\n",
       "    </tr>\n",
       "    <tr>\n",
       "      <th>16</th>\n",
       "      <td>reports</td>\n",
       "      <td>view_checkout</td>\n",
       "      <td>Append to View_checkout</td>\n",
       "      <td>user_time</td>\n",
       "    </tr>\n",
       "    <tr>\n",
       "      <th>17</th>\n",
       "      <td>segments</td>\n",
       "      <td>leave_users</td>\n",
       "      <td>leave_users</td>\n",
       "      <td>created</td>\n",
       "    </tr>\n",
       "    <tr>\n",
       "      <th>18</th>\n",
       "      <td>segments</td>\n",
       "      <td>buy_on_week</td>\n",
       "      <td>buy_on_week</td>\n",
       "      <td>created</td>\n",
       "    </tr>\n",
       "    <tr>\n",
       "      <th>19</th>\n",
       "      <td>reports</td>\n",
       "      <td>af_install_to_add_to_cart</td>\n",
       "      <td>append_to_add_to_cart_table</td>\n",
       "      <td>event_date</td>\n",
       "    </tr>\n",
       "    <tr>\n",
       "      <th>20</th>\n",
       "      <td>reports</td>\n",
       "      <td>orders</td>\n",
       "      <td>Append orders</td>\n",
       "      <td>created</td>\n",
       "    </tr>\n",
       "    <tr>\n",
       "      <th>21</th>\n",
       "      <td>reports</td>\n",
       "      <td>token_data</td>\n",
       "      <td>Append token data</td>\n",
       "      <td>push_date</td>\n",
       "    </tr>\n",
       "    <tr>\n",
       "      <th>22</th>\n",
       "      <td>reports</td>\n",
       "      <td>checkout_metrics</td>\n",
       "      <td>Append to Checkout_metrics</td>\n",
       "      <td>event_date</td>\n",
       "    </tr>\n",
       "    <tr>\n",
       "      <th>23</th>\n",
       "      <td>reports</td>\n",
       "      <td>installs_adjust</td>\n",
       "      <td>append to installs_adjust</td>\n",
       "      <td>event_date</td>\n",
       "    </tr>\n",
       "    <tr>\n",
       "      <th>24</th>\n",
       "      <td>reports</td>\n",
       "      <td>checkout_metrics_2</td>\n",
       "      <td>Append to checkout_metrics_2 FINAL_PURCHASE</td>\n",
       "      <td>event_date</td>\n",
       "    </tr>\n",
       "    <tr>\n",
       "      <th>25</th>\n",
       "      <td>reports</td>\n",
       "      <td>lenta_online_search_items</td>\n",
       "      <td>Append to lenta_online_search_items</td>\n",
       "      <td>event_date</td>\n",
       "    </tr>\n",
       "  </tbody>\n",
       "</table>\n",
       "</div>"
      ],
      "text/plain": [
       "   Destination folder          Destination table  \\\n",
       "0             reports              daily_metrics   \n",
       "1             reports              funnel_events   \n",
       "2             reports                   sessions   \n",
       "3             reports                     events   \n",
       "4             reports                     checks   \n",
       "5             reports                check_lines   \n",
       "6             reports                   searches   \n",
       "7             reports  af_installs_and_purchases   \n",
       "8             reports               user_metrics   \n",
       "9             reports          push_notification   \n",
       "10            reports                    banners   \n",
       "11            reports         checkout_metrics_2   \n",
       "12            reports                     errors   \n",
       "13            reports               banner_items   \n",
       "14            reports                  af_funnel   \n",
       "15            reports  af_installs_and_purchases   \n",
       "16            reports              view_checkout   \n",
       "17           segments                leave_users   \n",
       "18           segments                buy_on_week   \n",
       "19            reports  af_install_to_add_to_cart   \n",
       "20            reports                     orders   \n",
       "21            reports                 token_data   \n",
       "22            reports           checkout_metrics   \n",
       "23            reports            installs_adjust   \n",
       "24            reports         checkout_metrics_2   \n",
       "25            reports  lenta_online_search_items   \n",
       "\n",
       "                                       Scheduler name Partition field  \n",
       "0                                       Daily_metrics      event_date  \n",
       "1                       Append to funnel events table      event_date  \n",
       "2                            Append to sessions table      event_date  \n",
       "3                        Append to small events table      event_date  \n",
       "4                  Aggregated checks from Hadoop data         created  \n",
       "5                        Check lines from Hadoop data         created  \n",
       "6                              Append to search table      event_date  \n",
       "7           Append to AF installs and purchases table      event_date  \n",
       "8                        Append to user metrics table      event_date  \n",
       "9                         Append to push_notification      event_date  \n",
       "10                            Append to banners table      event_date  \n",
       "11                       Append to checkout_metrics_2      event_date  \n",
       "12                              Append to dash_errors      event_date  \n",
       "13                       Append to banner items table      event_date  \n",
       "14                                Append to af_funnel      event_date  \n",
       "15   Append to AF installs and purchases table (ONCE)      event_date  \n",
       "16                            Append to View_checkout       user_time  \n",
       "17                                        leave_users         created  \n",
       "18                                        buy_on_week         created  \n",
       "19                        append_to_add_to_cart_table      event_date  \n",
       "20                                      Append orders         created  \n",
       "21                                  Append token data       push_date  \n",
       "22                         Append to Checkout_metrics      event_date  \n",
       "23                          append to installs_adjust      event_date  \n",
       "24        Append to checkout_metrics_2 FINAL_PURCHASE      event_date  \n",
       "25               Append to lenta_online_search_items       event_date  "
      ]
     },
     "metadata": {},
     "output_type": "display_data"
    }
   ],
   "source": [
    "# Получаем список рабочих витрин\n",
    "t = bq_update.scheduled_queries(\"my_bq_project\")"
   ]
  },
  {
   "cell_type": "code",
   "execution_count": 4,
   "id": "c1324ef5",
   "metadata": {
    "scrolled": true
   },
   "outputs": [
    {
     "name": "stdout",
     "output_type": "stream",
     "text": [
      "dict_keys(['sessions', 'events', 'funnel_events', 'daily_metrics', 'checkout_metrics', 'user_metrics', 'checkout_metrics_2', 'push_notification', 'view_checkout'])\n"
     ]
    }
   ],
   "source": [
    "# Забираем только нужные витрины и необходимую информацию\n",
    "data_marts = bq_update.get_queries(['sessions','events','funnel_events','daily_metrics','checkout_metrics','user_metrics','checkout_metrics_2','push_notification','view_checkout'], 'lentochka-9bb50')"
   ]
  },
  {
   "cell_type": "code",
   "execution_count": null,
   "id": "e6a23a79",
   "metadata": {
    "scrolled": true
   },
   "outputs": [],
   "source": [
    "print(data_marts['view_checkout']['params']['query'])"
   ]
  },
  {
   "cell_type": "code",
   "execution_count": 8,
   "id": "5e14abcd",
   "metadata": {},
   "outputs": [
    {
     "name": "stdout",
     "output_type": "stream",
     "text": [
      "dict_keys(['sessions'])\n"
     ]
    }
   ],
   "source": [
    "data_marts = bq_update.get_queries(['sessions'], 'my_bq_project')"
   ]
  },
  {
   "cell_type": "code",
   "execution_count": 10,
   "id": "928c3cdd",
   "metadata": {
    "scrolled": true
   },
   "outputs": [
    {
     "name": "stdout",
     "output_type": "stream",
     "text": [
      "Checking the SESSIONS data. For the period from 2022-05-01 to 2022-08-03\n",
      "This query processed 0.42 GB.\n",
      "I found a missed day 2022-08-01 00:00:00. I will upload it\n",
      "Query results loaded to the table SESSIONS\n",
      "This query processed 13.34 GB.\n",
      "Execution time >>> 0:00:13.016117\n",
      "\n",
      "Process completed :)\n",
      "Time spent  0:00:17.673054\n",
      "This query processed 13.34 GB.\n"
     ]
    }
   ],
   "source": [
    "# Обновление Витрин\n",
    "bq_update.update_destination_table(data_marts,previous_monday,previous_sunday, two_day_queries = ['session', 'view_checkout'])"
   ]
  }
 ],
 "metadata": {
  "kernelspec": {
   "display_name": "Python 3 (ipykernel)",
   "language": "python",
   "name": "python3"
  },
  "language_info": {
   "codemirror_mode": {
    "name": "ipython",
    "version": 3
   },
   "file_extension": ".py",
   "mimetype": "text/x-python",
   "name": "python",
   "nbconvert_exporter": "python",
   "pygments_lexer": "ipython3",
   "version": "3.9.7"
  }
 },
 "nbformat": 4,
 "nbformat_minor": 5
}
