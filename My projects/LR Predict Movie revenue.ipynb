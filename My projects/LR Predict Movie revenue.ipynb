{
 "cells": [
  {
   "cell_type": "code",
   "execution_count": 45,
   "id": "fcd65734",
   "metadata": {},
   "outputs": [],
   "source": [
    "import pandas as pd\n",
    "import numpy as np\n",
    "import matplotlib.pyplot as plt\n",
    "import seaborn as sns\n",
    "import sys"
   ]
  },
  {
   "cell_type": "code",
   "execution_count": 140,
   "id": "126cfaf5",
   "metadata": {},
   "outputs": [],
   "source": [
    "from scipy.stats import linregress \n",
    "from sklearn.linear_model import LinearRegression"
   ]
  },
  {
   "cell_type": "code",
   "execution_count": 152,
   "id": "a1a357be",
   "metadata": {},
   "outputs": [],
   "source": [
    "reg = LinearRegression()"
   ]
  },
  {
   "cell_type": "code",
   "execution_count": 100,
   "id": "48c84b4e",
   "metadata": {
    "scrolled": false
   },
   "outputs": [
    {
     "data": {
      "text/plain": [
       "9223372036854775807"
      ]
     },
     "execution_count": 100,
     "metadata": {},
     "output_type": "execute_result"
    }
   ],
   "source": [
    "sys.maxsize"
   ]
  },
  {
   "cell_type": "code",
   "execution_count": 101,
   "id": "27af5c2d",
   "metadata": {},
   "outputs": [],
   "source": [
    "df = pd.read_csv('cost_revenue_dirty.csv')"
   ]
  },
  {
   "cell_type": "code",
   "execution_count": 102,
   "id": "72c499ba",
   "metadata": {},
   "outputs": [
    {
     "name": "stdout",
     "output_type": "stream",
     "text": [
      "<class 'pandas.core.frame.DataFrame'>\n",
      "RangeIndex: 5391 entries, 0 to 5390\n",
      "Data columns (total 6 columns):\n",
      " #   Column                 Non-Null Count  Dtype \n",
      "---  ------                 --------------  ----- \n",
      " 0   Rank                   5391 non-null   int64 \n",
      " 1   Release Date           5391 non-null   object\n",
      " 2   Movie Title            5391 non-null   object\n",
      " 3   Production Budget ($)  5391 non-null   object\n",
      " 4   Worldwide Gross ($)    5391 non-null   object\n",
      " 5   Domestic Gross ($)     5391 non-null   object\n",
      "dtypes: int64(1), object(5)\n",
      "memory usage: 252.8+ KB\n"
     ]
    }
   ],
   "source": [
    "df.info()"
   ]
  },
  {
   "cell_type": "code",
   "execution_count": 103,
   "id": "d2f91889",
   "metadata": {},
   "outputs": [],
   "source": [
    "df['Worldwide Gross ($)'].replace(r'\\$','', regex=True, inplace=True)\n",
    "df['Production Budget ($)'].replace(r'\\$','', regex=True, inplace=True) "
   ]
  },
  {
   "cell_type": "code",
   "execution_count": 104,
   "id": "e194aa0b",
   "metadata": {},
   "outputs": [],
   "source": [
    "df['Worldwide Gross ($)'].replace(r'\\,','', regex=True, inplace=True)\n",
    "df['Production Budget ($)'].replace(r'\\,','', regex=True, inplace=True)"
   ]
  },
  {
   "cell_type": "code",
   "execution_count": 105,
   "id": "f3e94339",
   "metadata": {},
   "outputs": [],
   "source": [
    "df['Worldwide Gross ($)']= df['Worldwide Gross ($)'].astype(np.int64)\n",
    "df['Production Budget ($)']= df['Production Budget ($)'].astype(np.int64)"
   ]
  },
  {
   "cell_type": "code",
   "execution_count": 106,
   "id": "cff3d663",
   "metadata": {},
   "outputs": [],
   "source": [
    "df_work = df[df['Worldwide Gross ($)'] > 0].iloc[:,3:-1].copy()"
   ]
  },
  {
   "cell_type": "code",
   "execution_count": 240,
   "id": "a8fbec4f",
   "metadata": {},
   "outputs": [
    {
     "data": {
      "text/html": [
       "<div>\n",
       "<style scoped>\n",
       "    .dataframe tbody tr th:only-of-type {\n",
       "        vertical-align: middle;\n",
       "    }\n",
       "\n",
       "    .dataframe tbody tr th {\n",
       "        vertical-align: top;\n",
       "    }\n",
       "\n",
       "    .dataframe thead th {\n",
       "        text-align: right;\n",
       "    }\n",
       "</style>\n",
       "<table border=\"1\" class=\"dataframe\">\n",
       "  <thead>\n",
       "    <tr style=\"text-align: right;\">\n",
       "      <th></th>\n",
       "      <th>Production Budget ($)</th>\n",
       "      <th>Worldwide Gross ($)</th>\n",
       "    </tr>\n",
       "  </thead>\n",
       "  <tbody>\n",
       "    <tr>\n",
       "      <th>0</th>\n",
       "      <td>110000</td>\n",
       "      <td>11000000</td>\n",
       "    </tr>\n",
       "    <tr>\n",
       "      <th>2</th>\n",
       "      <td>200000</td>\n",
       "      <td>8000000</td>\n",
       "    </tr>\n",
       "    <tr>\n",
       "      <th>3</th>\n",
       "      <td>100000</td>\n",
       "      <td>3000000</td>\n",
       "    </tr>\n",
       "    <tr>\n",
       "      <th>4</th>\n",
       "      <td>245000</td>\n",
       "      <td>22000000</td>\n",
       "    </tr>\n",
       "    <tr>\n",
       "      <th>5</th>\n",
       "      <td>3900000</td>\n",
       "      <td>9000000</td>\n",
       "    </tr>\n",
       "    <tr>\n",
       "      <th>...</th>\n",
       "      <td>...</td>\n",
       "      <td>...</td>\n",
       "    </tr>\n",
       "    <tr>\n",
       "      <th>5378</th>\n",
       "      <td>55000000</td>\n",
       "      <td>376856949</td>\n",
       "    </tr>\n",
       "    <tr>\n",
       "      <th>5379</th>\n",
       "      <td>40000000</td>\n",
       "      <td>166893990</td>\n",
       "    </tr>\n",
       "    <tr>\n",
       "      <th>5380</th>\n",
       "      <td>185000000</td>\n",
       "      <td>561137727</td>\n",
       "    </tr>\n",
       "    <tr>\n",
       "      <th>5381</th>\n",
       "      <td>175000000</td>\n",
       "      <td>140012608</td>\n",
       "    </tr>\n",
       "    <tr>\n",
       "      <th>5382</th>\n",
       "      <td>42000000</td>\n",
       "      <td>57850343</td>\n",
       "    </tr>\n",
       "  </tbody>\n",
       "</table>\n",
       "<p>5034 rows × 2 columns</p>\n",
       "</div>"
      ],
      "text/plain": [
       "      Production Budget ($)  Worldwide Gross ($)\n",
       "0                    110000             11000000\n",
       "2                    200000              8000000\n",
       "3                    100000              3000000\n",
       "4                    245000             22000000\n",
       "5                   3900000              9000000\n",
       "...                     ...                  ...\n",
       "5378               55000000            376856949\n",
       "5379               40000000            166893990\n",
       "5380              185000000            561137727\n",
       "5381              175000000            140012608\n",
       "5382               42000000             57850343\n",
       "\n",
       "[5034 rows x 2 columns]"
      ]
     },
     "execution_count": 240,
     "metadata": {},
     "output_type": "execute_result"
    }
   ],
   "source": [
    "df_work"
   ]
  },
  {
   "cell_type": "code",
   "execution_count": 196,
   "id": "d74feeb6",
   "metadata": {
    "scrolled": true
   },
   "outputs": [],
   "source": [
    "X = np.array(df_work['Production Budget ($)'])\n",
    "y = np.array(df_work['Worldwide Gross ($)'])"
   ]
  },
  {
   "cell_type": "code",
   "execution_count": 187,
   "id": "5f251371",
   "metadata": {},
   "outputs": [
    {
     "data": {
      "text/plain": [
       "LinregressResult(slope=3.1115091829361288, intercept=-7236192.729139656, rvalue=0.7413828536583329, pvalue=0.0, stderr=0.03970397811072372, intercept_stderr=2091133.0013747918)"
      ]
     },
     "execution_count": 187,
     "metadata": {},
     "output_type": "execute_result"
    }
   ],
   "source": [
    "linregress(X,y)"
   ]
  },
  {
   "cell_type": "code",
   "execution_count": 201,
   "id": "3bb7ef1f",
   "metadata": {},
   "outputs": [
    {
     "data": {
      "text/plain": [
       "3.1115091829361288"
      ]
     },
     "execution_count": 201,
     "metadata": {},
     "output_type": "execute_result"
    }
   ],
   "source": [
    "linregress(X,y).slope"
   ]
  },
  {
   "cell_type": "code",
   "execution_count": 202,
   "id": "8e62026f",
   "metadata": {},
   "outputs": [
    {
     "data": {
      "text/plain": [
       "-7236192.729139656"
      ]
     },
     "execution_count": 202,
     "metadata": {},
     "output_type": "execute_result"
    }
   ],
   "source": [
    "linregress(X,y).intercept"
   ]
  },
  {
   "cell_type": "markdown",
   "id": "2ad850f7",
   "metadata": {},
   "source": [
    "# SKLEARN"
   ]
  },
  {
   "cell_type": "code",
   "execution_count": 206,
   "id": "b49bd357",
   "metadata": {},
   "outputs": [],
   "source": [
    "X = pd.DataFrame(df_work, columns=['Production Budget ($)'])\n",
    "y = pd.DataFrame(df_work, columns=['Worldwide Gross ($)'])"
   ]
  },
  {
   "cell_type": "code",
   "execution_count": 181,
   "id": "ccb6fbec",
   "metadata": {},
   "outputs": [
    {
     "data": {
      "text/plain": [
       "LinearRegression()"
      ]
     },
     "execution_count": 181,
     "metadata": {},
     "output_type": "execute_result"
    }
   ],
   "source": [
    "reg.fit(X,y)"
   ]
  },
  {
   "cell_type": "code",
   "execution_count": 189,
   "id": "1d52f9bb",
   "metadata": {},
   "outputs": [
    {
     "data": {
      "text/plain": [
       "array([[3.11150918]])"
      ]
     },
     "execution_count": 189,
     "metadata": {},
     "output_type": "execute_result"
    }
   ],
   "source": [
    "reg.coef_"
   ]
  },
  {
   "cell_type": "code",
   "execution_count": 214,
   "id": "8b8f62e0",
   "metadata": {},
   "outputs": [
    {
     "data": {
      "text/plain": [
       "0.5496485356985729"
      ]
     },
     "execution_count": 214,
     "metadata": {},
     "output_type": "execute_result"
    }
   ],
   "source": [
    "reg.score(X,y)"
   ]
  },
  {
   "cell_type": "code",
   "execution_count": 234,
   "id": "89922dbd",
   "metadata": {},
   "outputs": [
    {
     "data": {
      "image/png": "[encoded data removed]",
      "text/plain": [
       "<Figure size 1008x720 with 1 Axes>"
      ]
     },
     "metadata": {
      "needs_background": "light"
     },
     "output_type": "display_data"
    }
   ],
   "source": [
    "plt.figure(figsize=(14,10))\n",
    "plt.scatter(X,y, alpha=0.3)\n",
    "plt.plot(X, reg.predict(X), color='red', linewidth=4)\n",
    "plt.title('Linear regression')\n",
    "plt.xlabel ('Budget')\n",
    "plt.ylabel ('Revenue')\n",
    "plt.show()"
   ]
  },
  {
   "cell_type": "code",
   "execution_count": 242,
   "id": "0fc4f8da",
   "metadata": {},
   "outputs": [
    {
     "data": {
      "text/plain": [
       "array([[1.17224175e+08]])"
      ]
     },
     "execution_count": 242,
     "metadata": {},
     "output_type": "execute_result"
    }
   ],
   "source": [
    "reg.predict([[40000000]])"
   ]
  }
 ],
 "metadata": {
  "kernelspec": {
   "display_name": "Python 3 (ipykernel)",
   "language": "python",
   "name": "python3"
  },
  "language_info": {
   "codemirror_mode": {
    "name": "ipython",
    "version": 3
   },
   "file_extension": ".py",
   "mimetype": "text/x-python",
   "name": "python",
   "nbconvert_exporter": "python",
   "pygments_lexer": "ipython3",
   "version": "3.9.7"
  }
 },
 "nbformat": 4,
 "nbformat_minor": 5
}
