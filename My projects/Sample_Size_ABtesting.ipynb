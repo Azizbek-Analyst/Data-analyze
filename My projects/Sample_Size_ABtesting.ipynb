{
 "cells": [
  {
   "cell_type": "markdown",
   "metadata": {
    "colab_type": "text",
    "id": "view-in-github"
   },
   "source": [
    "<a href=\"https://colab.research.google.com/github/Azizbek-Analyst/Data-analyze/blob/main/Sample_Size_ABtesting.ipynb\" target=\"_parent\"><img src=\"https://colab.research.google.com/assets/colab-badge.svg\" alt=\"Open In Colab\"/></a>"
   ]
  },
  {
   "cell_type": "code",
   "execution_count": 1,
   "metadata": {
    "id": "Z2kVrhzUha9s"
   },
   "outputs": [],
   "source": [
    "import scipy.stats\n",
    "import math\n",
    "import numpy as np\n"
   ]
  },
  {
   "cell_type": "code",
   "execution_count": 2,
   "metadata": {
    "id": "VH8rfaXIhfqg"
   },
   "outputs": [],
   "source": [
    "def calc_sample_size(alpha, power, p, pct_mde):\n",
    "    \"\"\" Based on https://www.evanmiller.org/ab-testing/sample-size.html\n",
    "\n",
    "    Args:\n",
    "        alpha (float): How often are you willing to accept a Type I error (false positive)?\n",
    "        power (float): How often do you want to correctly detect a true positive (1-beta)?\n",
    "        p (float): Base conversion rate\n",
    "        pct_mde (float): Minimum detectable effect, relative to base conversion rate.\n",
    "\n",
    "    \"\"\"\n",
    "    delta = p*pct_mde\n",
    "    t_alpha2 = scipy.stats.norm.ppf(1.0-alpha/2)\n",
    "    t_beta = scipy.stats.norm.ppf(power)\n",
    "\n",
    "    sd1 = np.sqrt(2 * p * (1.0 - p))\n",
    "    sd2 = np.sqrt(p * (1.0 - p) + (p + delta) * (1.0 - p - delta))\n",
    "\n",
    "    return (t_alpha2 * sd1 + t_beta * sd2) * (t_alpha2 * sd1 + t_beta * sd2) / (delta * delta)"
   ]
  },
  {
   "cell_type": "code",
   "execution_count": 5,
   "metadata": {
    "colab": {
     "base_uri": "https://localhost:8080/"
    },
    "id": "vOCTmKLnhf-d",
    "outputId": "9a81da07-0d94-489a-f969-1416fbf3f311"
   },
   "outputs": [
    {
     "data": {
      "text/plain": [
       "25255.085181676943"
      ]
     },
     "execution_count": 5,
     "metadata": {},
     "output_type": "execute_result"
    }
   ],
   "source": [
    "calc_sample_size(alpha = 0.05,power=0.8, p=0.20,pct_mde = 0.05)"
   ]
  },
  {
   "cell_type": "markdown",
   "metadata": {},
   "source": [
    "# T test CI"
   ]
  },
  {
   "cell_type": "code",
   "execution_count": null,
   "metadata": {},
   "outputs": [],
   "source": [
    "from scipy import stats\n",
    "from scipy.stats import norm\n",
    "from scipy.stats import t\n",
    "from statsmodels.stats.weightstats import ztest as ztest"
   ]
  },
  {
   "cell_type": "code",
   "execution_count": null,
   "metadata": {},
   "outputs": [],
   "source": [
    "## CONFIDENCE INTERVALS \n",
    "def ci(control, test):\n",
    "  m, m2 = control.mean(), test.mean()\n",
    "  s, s2 = control.std(), test.std()\n",
    "  dof, dof2 = len(control)-1, len(test)-1 \n",
    "  confidence = 0.95\n",
    "  t_crit, t_crit2 = np.abs(t.ppf((1-confidence)/2,dof)) , np.abs(t.ppf((1-confidence)/2,dof2))\n",
    "  lower_con, lower_treat = m-s*t_crit/np.sqrt(len(control)) , m2-s2*t_crit2/np.sqrt(len(test))\n",
    "  upper_con, upper_treat = m+s*t_crit/np.sqrt(len(control)) , m2+s2*t_crit2/np.sqrt(len(test))\n",
    "  print(f'ci 95% for control group: [{lower_con:.3f}, {upper_con:.3f}]')\n",
    "  print(f'ci 95% for test group: [{lower_treat:.3f}, {upper_treat:.3f}]')\n"
   ]
  },
  {
   "cell_type": "code",
   "execution_count": null,
   "metadata": {},
   "outputs": [],
   "source": [
    "x1,y1 = stats.ttest_ind(control, test_1)\n",
    "print(f'statistic {x1:.5f}, p-value {y1:.5f}.')\n",
    "ci(control,test_1)"
   ]
  }
 ],
 "metadata": {
  "colab": {
   "authorship_tag": "ABX9TyN67kFrAC+6bALK5uViTp9N",
   "include_colab_link": true,
   "name": "Sample_Size_ABtesting.ipynb",
   "provenance": []
  },
  "kernelspec": {
   "display_name": "Python 3 (ipykernel)",
   "language": "python",
   "name": "python3"
  },
  "language_info": {
   "codemirror_mode": {
    "name": "ipython",
    "version": 3
   },
   "file_extension": ".py",
   "mimetype": "text/x-python",
   "name": "python",
   "nbconvert_exporter": "python",
   "pygments_lexer": "ipython3",
   "version": "3.9.7"
  }
 },
 "nbformat": 4,
 "nbformat_minor": 1
}
