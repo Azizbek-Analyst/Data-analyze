{
  "nbformat": 4,
  "nbformat_minor": 0,
  "metadata": {
    "colab": {
      "name": "Sample_Size_ABtesting.ipynb",
      "provenance": [],
      "authorship_tag": "ABX9TyN67kFrAC+6bALK5uViTp9N",
      "include_colab_link": true
    },
    "kernelspec": {
      "name": "python3",
      "display_name": "Python 3"
    },
    "language_info": {
      "name": "python"
    }
  },
  "cells": [
    {
      "cell_type": "markdown",
      "metadata": {
        "id": "view-in-github",
        "colab_type": "text"
      },
      "source": [
        "<a href=\"https://colab.research.google.com/github/Azizbek-Analyst/Data-analyze/blob/main/Sample_Size_ABtesting.ipynb\" target=\"_parent\"><img src=\"https://colab.research.google.com/assets/colab-badge.svg\" alt=\"Open In Colab\"/></a>"
      ]
    },
    {
      "cell_type": "code",
      "execution_count": null,
      "metadata": {
        "id": "Z2kVrhzUha9s"
      },
      "outputs": [],
      "source": [
        "import scipy.stats\n",
        "import math\n",
        "import numpy as np"
      ]
    },
    {
      "cell_type": "code",
      "source": [
        "def calc_sample_size(alpha, power, p, pct_mde):\n",
        "    \"\"\" Based on https://www.evanmiller.org/ab-testing/sample-size.html\n",
        "\n",
        "    Args:\n",
        "        alpha (float): How often are you willing to accept a Type I error (false positive)?\n",
        "        power (float): How often do you want to correctly detect a true positive (1-beta)?\n",
        "        p (float): Base conversion rate\n",
        "        pct_mde (float): Minimum detectable effect, relative to base conversion rate.\n",
        "\n",
        "    \"\"\"\n",
        "    delta = p*pct_mde\n",
        "    t_alpha2 = scipy.stats.norm.ppf(1.0-alpha/2)\n",
        "    t_beta = scipy.stats.norm.ppf(power)\n",
        "\n",
        "    sd1 = np.sqrt(2 * p * (1.0 - p))\n",
        "    sd2 = np.sqrt(p * (1.0 - p) + (p + delta) * (1.0 - p - delta))\n",
        "\n",
        "    return (t_alpha2 * sd1 + t_beta * sd2) * (t_alpha2 * sd1 + t_beta * sd2) / (delta * delta)"
      ],
      "metadata": {
        "id": "VH8rfaXIhfqg"
      },
      "execution_count": null,
      "outputs": []
    },
    {
      "cell_type": "code",
      "source": [
        "calc_sample_size(0.05,0.8,0.20,0.05)"
      ],
      "metadata": {
        "colab": {
          "base_uri": "https://localhost:8080/"
        },
        "id": "vOCTmKLnhf-d",
        "outputId": "9a81da07-0d94-489a-f969-1416fbf3f311"
      },
      "execution_count": null,
      "outputs": [
        {
          "output_type": "execute_result",
          "data": {
            "text/plain": [
              "25255.085181676943"
            ]
          },
          "metadata": {},
          "execution_count": 3
        }
      ]
    }
  ]
}